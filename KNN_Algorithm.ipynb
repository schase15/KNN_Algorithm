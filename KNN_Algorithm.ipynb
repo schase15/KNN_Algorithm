{
  "nbformat": 4,
  "nbformat_minor": 0,
  "metadata": {
    "colab": {
      "name": "KNN_Algorithm.ipynb",
      "provenance": [],
      "collapsed_sections": [],
      "authorship_tag": "ABX9TyNC8Xl1qPg5ihAq0oYG5h09",
      "include_colab_link": true
    },
    "kernelspec": {
      "name": "python3",
      "display_name": "Python 3"
    }
  },
  "cells": [
    {
      "cell_type": "markdown",
      "metadata": {
        "id": "view-in-github",
        "colab_type": "text"
      },
      "source": [
        "<a href=\"https://colab.research.google.com/github/schase15/KNN_Algorithm/blob/master/KNN_Algorithm.ipynb\" target=\"_parent\"><img src=\"https://colab.research.google.com/assets/colab-badge.svg\" alt=\"Open In Colab\"/></a>"
      ]
    },
    {
      "cell_type": "markdown",
      "metadata": {
        "id": "q6CiSLUhhlLj",
        "colab_type": "text"
      },
      "source": [
        "# Implementing K Nearest Neighbors By Hand"
      ]
    },
    {
      "cell_type": "markdown",
      "metadata": {
        "id": "jZyTDkUchlOo",
        "colab_type": "text"
      },
      "source": [
        "### This notebook includes the code for implementing the K Nearest Neighbors algorithm by hand\n",
        "My algorithm for K Nearest Neighbors is implemented as a Python class using only base python, numpy and scipy.\n",
        "\n",
        "I then selected a data set and compare the results of my own KNN algorithm to the results of the standard KNN from sklearn."
      ]
    },
    {
      "cell_type": "markdown",
      "metadata": {
        "id": "grqIZnvtjyX3",
        "colab_type": "text"
      },
      "source": [
        "## Theory Behind KNN"
      ]
    },
    {
      "cell_type": "markdown",
      "metadata": {
        "id": "-jP41SdNj2F-",
        "colab_type": "text"
      },
      "source": [
        "K Nearest Neighbors is a simple machine learning model that makes predictions based off of the most similar observations in its traing data. While it can be very powerful, its predictive capability is limited to observations that are similar to what the training data it has in memory.\n",
        "\n",
        "Unlike most other models, KNN does not 'learn' from its training dataset. Instead it holds the entire training set in memory and then compares the new observation to its stored data. KNN performs no work until a prediction is required.\n",
        "\n",
        "When a prediction is required it does exactly what it name says. The model examines the new observation and finds the most similar records (nearest neighbors) that it holds in its training set. The number of neighbors (k) the model selects from its training data is defined by the user. \n",
        "\n",
        "A prediction can be made by either returning the most common outcome (classification) or by taking the average (regression).\n",
        "\n",
        "**Some Important Notes on Using KNN**\n",
        "\n",
        "- KNN is a simple model to implement, but as a result it is limited in the types of data it can take as input. When working with KNN the phrase \"garbage in, garbage out\" is never more accurate. KNN does not handle categorical variables so everything must be pre-processed to include numerical values only. Additionally, as you will see in the next section, the nearest neighbors are found by calculating the distances between the new observation and the records held in memory. Those with the smallest distances are considered most similar. Intuatively, you should understand the importance of scaling your data (so that they are all being measured on the same metric) before running a KNN model. "
      ]
    },
    {
      "cell_type": "markdown",
      "metadata": {
        "id": "kRn_G7faj2Nl",
        "colab_type": "text"
      },
      "source": [
        "## Algorithm Implementation\n",
        "Now that we understand the theory behind KNN, we can implement our own algorithm from scratch in three setps.\n",
        "\n",
        "Step 1. Calculate Euclidean Distance\n",
        "\n",
        "Step 2. Get Nearest Neighbors\n",
        "\n",
        "Step 3. Make Predicitons"
      ]
    },
    {
      "cell_type": "markdown",
      "metadata": {
        "id": "WFH3IvvGj2MM",
        "colab_type": "text"
      },
      "source": [
        "### Step 1: Calculate Euclidean Distance\n"
      ]
    },
    {
      "cell_type": "markdown",
      "metadata": {
        "id": "w9lBTiIU9ReO",
        "colab_type": "text"
      },
      "source": [
        "The formula for Euclidean Distance is:\n",
        "\n",
        "$ \\sum_{i=1}^n (x_{i}-y_{i})^2 $\n",
        "\n"
      ]
    },
    {
      "cell_type": "markdown",
      "metadata": {
        "id": "ZYxuyLnBw6vh",
        "colab_type": "text"
      },
      "source": [
        "The Euclidean Distance may sound complicated, and the formula may look intimitating. But the concept is very simple. The Euclidean Distance is the ordinary straight line distance between two data points. The formula can be simply derived from the Pythagorean formula: "
      ]
    },
    {
      "cell_type": "markdown",
      "metadata": {
        "id": "jLubqoBkw6zF",
        "colab_type": "text"
      },
      "source": [
        "Pythagorean Theorem:\n",
        "\n",
        "$c^2 = a^2 + b^2 $\n",
        "\n",
        "Where c is the Euclidean distance between datapoints a and b.\n",
        "\n",
        "For simplicity, let's first say that data point a and b are 2-Dimensial and described by their x and y coordinates.\n",
        "\n",
        "a= ($a_{1}, a_{2}$) and b= ($b_{1}, b_{2}$).\n",
        "\n",
        "To help with understanding, visually we can view this on a graph. On the graph below data points a and b have been ploted (represented by the large arrowheads). The Euclidean distance we are trying to calculate is the vector drawn in yellow.\n",
        "\n",
        "By drawing in the vectors representing the datapoints (in blue and red) we can clearly see that the yellow Euclidean distance is simply the hypotenuse of the triangle. "
      ]
    },
    {
      "cell_type": "code",
      "metadata": {
        "id": "jKQHZH14m0q2",
        "colab_type": "code",
        "colab": {
          "base_uri": "https://localhost:8080/",
          "height": 281
        },
        "outputId": "0a293094-24d6-4416-be27-056fad3f509b"
      },
      "source": [
        "# Import matplotlib\n",
        "import matplotlib.pyplot as plt\n",
        "\n",
        "# Coordinate Pairs for where the datapoints are (represented by the arrowheads \n",
        "# at the end of the vectors)\n",
        "\n",
        "# Datapoint a\n",
        "red = (2, 0)\n",
        "\n",
        "# Datapoint b\n",
        "blue = (0, 2)\n",
        "\n",
        "# Axis Bounds\n",
        "plt.xlim(-1,3)          \n",
        "plt.ylim(-1,3)\n",
        "\n",
        "# Plot Vectors\n",
        "plt.arrow(0, 2, 2, -2, head_width=.02, head_length=0.01, color = 'y')\n",
        "plt.arrow(0, 0, 2, 0, head_width=.2, head_length=0.1, color = 'r')\n",
        "plt.arrow(0, 0, 0, 2,  head_width=.2, head_length=0.1, color = 'b')\n",
        "plt.title('Calculating Euclidean Distance')\n",
        "plt.show()"
      ],
      "execution_count": 30,
      "outputs": [
        {
          "output_type": "display_data",
          "data": {
            "image/png": "[encoded data removed]",
            "text/plain": [
              "<Figure size 432x288 with 1 Axes>"
            ]
          },
          "metadata": {
            "tags": [],
            "needs_background": "light"
          }
        }
      ]
    },
    {
      "cell_type": "markdown",
      "metadata": {
        "id": "Sc4S8nAJrTXT",
        "colab_type": "text"
      },
      "source": [
        "\n",
        "We know that the length of the vectors for point a and b can be calculated by |$a_{1} - b_{1}$| and |$a_{2} - b_{2}$|\n",
        "\n",
        "So it follows that,\n",
        "\n",
        "$c^2 = (a_{1}-b_{1})^2 + (a_{2}-b_{2})^2 $\n",
        "\n",
        "$c = \\sqrt{(a_{1}-b_{1})^2 + (a_{2}-b_{2})^2} $\n",
        "\n",
        "This is the basic formula for Euclidean Distance for 2-D datapoints.\n",
        "\n",
        "However, this can be expanded to 3-D and beyond leaving us with the finalized formula of Euclidean Distance we saw above.\n",
        "\n",
        "$c = \\sqrt{(a_{1}-b_{1})^2 + (a_{2}-b_{2})^2 + (a_{3}-b_{3})^2 + ... + (a_{n}-b_{n})^2} $\n",
        "\n",
        "More succintly written as,\n",
        "\n",
        "$ \\sum_{i=1}^n (a_{i}-b_{i})^2 $\n"
      ]
    },
    {
      "cell_type": "markdown",
      "metadata": {
        "id": "Le3fSJIiEXLC",
        "colab_type": "text"
      },
      "source": [
        "**Given our understanding of the mathmatics behind calculating the Euclidean distance, how can we write that calculation in python?**"
      ]
    },
    {
      "cell_type": "markdown",
      "metadata": {
        "id": "gAOdy--WhmJB",
        "colab_type": "text"
      },
      "source": [
        "When working with datasets, each row is a datapoint. Each column represents another dimension of the datapoint (but that leads us off track into the subject of dimensionality and furthermore the curse of dimensionality). If you don't know what I am talking about, it is a crucial concept to understand when building your own machine learning models. For the purposes of this article, I will leave further research of that topic to you.\n",
        "\n",
        "To calculate the Euclidean distance between two points we can use the following function."
      ]
    },
    {
      "cell_type": "code",
      "metadata": {
        "id": "rKZc5AmShl5P",
        "colab_type": "code",
        "colab": {}
      },
      "source": [
        "# Helper method to calculate the square root\n",
        "def sq_rt(x):\n",
        "  return x** 0.5\n",
        "\n",
        "# Calculate the Euclidean distance between two vectors (datapoints)\n",
        "def euclidean_distance(row_1, row_2):     # For datapoint row 1 and datapoint row 2\n",
        "  # Save a distance variable to save sum of calculations to\n",
        "  distance = 0.0\n",
        "  # Itereate through each column of the row\n",
        "  # Except for the last column which is where the target varibale is stored\n",
        "  for i in range(len(row_1)-1):\n",
        "    # Calculate the length vectors for each dimension and sum them\n",
        "    distance += (row_1[i]- row_2[i])**2\n",
        "  # Return the square root of the sum of the distances\n",
        "  return sq_rt(distance)"
      ],
      "execution_count": 32,
      "outputs": []
    },
    {
      "cell_type": "markdown",
      "metadata": {
        "id": "7mRkmjdBEXOI",
        "colab_type": "text"
      },
      "source": [
        "The function above assumes that the output target is the last column of the datapoint and is therefore not included in the distance calculations. In our final KNN class we will have a fit method that saves the X values and the target separately.  "
      ]
    },
    {
      "cell_type": "markdown",
      "metadata": {
        "id": "OC3OurimEXIc",
        "colab_type": "text"
      },
      "source": [
        "### Step 2: Get Nearest Neighbors"
      ]
    },
    {
      "cell_type": "markdown",
      "metadata": {
        "id": "7lCsdKx6sPpm",
        "colab_type": "text"
      },
      "source": [
        "Now that we know how to calculate the distance betweeen two datapoints, we can find the k nearest neighbors (closest instances in the training data) to our new datapoint. \n",
        "\n",
        "First we can use the above function to calculate the distances between our new observation and each datapoint in our training set. Once calculated, we can sort these distances and return the instances with the smallest calculated distances.\n",
        "\n",
        "The below function get_KNN() will implement this idea in python."
      ]
    },
    {
      "cell_type": "code",
      "metadata": {
        "id": "TRtDeSs8hlx_",
        "colab_type": "code",
        "colab": {}
      },
      "source": [
        "# Return the k nearest neighbors to the new observation\n",
        "\n",
        "# Input is the training data, test observation, and the number of neighbors (k) to return\n",
        "def get_KNN(train, test_row, k):\n",
        "  # Save the rows and calculated distances in a tuple\n",
        "  distances = list()\n",
        "\n",
        "  # Iterate through each row in the training data\n",
        "  # Use the euclidean distance function to calculate the distances between the train row and the new observation\n",
        "  for train_row in train:\n",
        "    euc_dist = euclidean_distance(test_row, train_row)\n",
        "    # Save the row and calculated distance\n",
        "    distances.append((train_row, euc_dist))\n",
        "\n",
        "  # Sort by using the calculated distances (the second item in the tuple)\n",
        "  distances.sort(key= lambda tup: tup[1])\n",
        "  \n",
        "  # Populate a list with k nearest neighbors\n",
        "  n_neighbors = list()\n",
        "\n",
        "  # Get the nearest k neighbors by returning the k first instances in the sorted distances list\n",
        "  # Return just the first value in the tuple (the row information)\n",
        "  for i in range(k):\n",
        "    n_neighbors.append(distances[i][0])\n",
        "  \n",
        "  # Return the list of nearest neighbors\n",
        "  return n_neighbors"
      ],
      "execution_count": 39,
      "outputs": []
    },
    {
      "cell_type": "markdown",
      "metadata": {
        "id": "yokjPz5osPw1",
        "colab_type": "text"
      },
      "source": [
        "### Step 3: Make Predictions"
      ]
    },
    {
      "cell_type": "markdown",
      "metadata": {
        "id": "sVJJquonsPuV",
        "colab_type": "text"
      },
      "source": [
        "We have used our knowledge of Euclidean Distance to find the k nearest neighbors to our test datapoint. Now we can make predictions, the whole point of the model.\n",
        "\n",
        "We have the most similar instances from the dataset to our test observation. Intuatively, by looking at the target outputs of our nearest neighbors, we should be able to predict an output for our test case."
      ]
    },
    {
      "cell_type": "markdown",
      "metadata": {
        "id": "8zhOzuqaNMRl",
        "colab_type": "text"
      },
      "source": [
        "**Classification**:\n",
        "For a classification problem, that is as simple as counting up the instances of each output across the k nearest neighbors. Our prediction for our test datapoint will be whichever output occured most frequnetly in the nearest neighbors. \n",
        "\n",
        "The function below utilizes the output from the get_KNN() function to implement the idea of classification prediction in python:"
      ]
    },
    {
      "cell_type": "code",
      "metadata": {
        "id": "EHB7RpmksQgh",
        "colab_type": "code",
        "colab": {}
      },
      "source": [
        "# Make a classification prediction with k nearest neighbors\n",
        "def predict_classification(train, test_row, k):\n",
        "  # Find the nearest neighbors\n",
        "  n_neighbors = get_KNN(train, test_row, k)\n",
        "\n",
        "  # Populate a list with the target output (the last column) from each KNN row\n",
        "  output_values = [row[-1] for row in n_neighbors]\n",
        "\n",
        "  # Make prediction by counting each occurance of output values\n",
        "  # Return the output value that occurs the most frequently\n",
        "  prediction = max(set(output_values), key= output_values.count)\n",
        "  # Return the prediction\n",
        "  return prediction"
      ],
      "execution_count": 41,
      "outputs": []
    },
    {
      "cell_type": "markdown",
      "metadata": {
        "id": "TMMlJIUmNQtj",
        "colab_type": "text"
      },
      "source": [
        "**Regression**\n",
        "For a regression problem, we use the same logic of looking at the output values of the K nearest neighbors. Instead of returning the most common occurance, we will return the mean value of the output values as the regression prediction.\n",
        "The function below utilizes the output from the get_KNN() function to make a regression prediction in python."
      ]
    },
    {
      "cell_type": "code",
      "metadata": {
        "id": "d5YdHrz2N2Fd",
        "colab_type": "code",
        "colab": {}
      },
      "source": [
        "# Make a regression prediction with k nearest neighbors\n",
        "def predict_regression(train, test_row, k):\n",
        "  # Find the nearest neighbors\n",
        "  n_neighbors = get_KNN(train, test_row, k)\n",
        "\n",
        "  # Populate a list with the target output (the last column) from each KNN row\n",
        "  output_values = [row[-1] for row in n_neighbors]\n",
        "\n",
        "  # Make prediction by calculating the mean of the output values from the nearest neighbors\n",
        "  prediction = sum(output_values) / len(output_values)\n",
        "  # Return the prediction\n",
        "  return prediction"
      ],
      "execution_count": 45,
      "outputs": []
    },
    {
      "cell_type": "markdown",
      "metadata": {
        "id": "SVGsWduqQ8PL",
        "colab_type": "text"
      },
      "source": [
        "The two prediction functions created above are for making a prediction for one new data point. That was primarily for ease of understanding. Generally, we are not looking for a single prediction, but a prediction for each point in a large dataset. To adapt the above functions to handle multiple predictions, just iterate through your new dataset, calling the predict function on each point\n",
        "\n",
        "The code below will accomplish that for classification."
      ]
    },
    {
      "cell_type": "code",
      "metadata": {
        "id": "ZKX8Umj1RjOb",
        "colab_type": "code",
        "colab": {}
      },
      "source": [
        "# Create predictions for multiple new datapoints, classification\n",
        "\n",
        "def multiple_classifications(train, test, k):\n",
        "  # Create a list to hold all of the predictions\n",
        "\tpredictions = list()\n",
        " \n",
        "  # For each row in the test data, call the predict function\n",
        "  for row in test:\n",
        "\t\tpredicted_output = predict_classification(train, row, k)\n",
        "\t\tpredictions.append(predicted_output)\n",
        "  \n",
        "  # Return the populated list of predictions\n",
        "  return predictions"
      ],
      "execution_count": null,
      "outputs": []
    },
    {
      "cell_type": "markdown",
      "metadata": {
        "id": "bq8p7f4uTCcy",
        "colab_type": "text"
      },
      "source": [
        "The above can be similarly modified to handle regression predictions."
      ]
    },
    {
      "cell_type": "markdown",
      "metadata": {
        "id": "jaiwyBkhOtVF",
        "colab_type": "text"
      },
      "source": [
        "## Put the pieces together in a KNN class"
      ]
    },
    {
      "cell_type": "markdown",
      "metadata": {
        "id": "EdmQEjNnOw6Y",
        "colab_type": "text"
      },
      "source": [
        "Now that we have all of the pieces, we can wrap them all in a K Nearest Neighbor class. All of the functions defined above will be methods that you can call on the class."
      ]
    },
    {
      "cell_type": "code",
      "metadata": {
        "id": "MjSZouHBPk6o",
        "colab_type": "code",
        "colab": {}
      },
      "source": [
        "# K Nearest Neighbors Class\n",
        "'''\n",
        "Class is initialized by setting k (number of nearest neighbors you want to look at)\n",
        "Then call the .fit() method to save the X_train matrix and y_train vector\n",
        "The method .predict_classification() will return classification predictions given X_test\n",
        "The method .predict_regression() will return regression predictions given X_test\n",
        "'''\n",
        "\n",
        "class KNN():\n",
        "  def __init__(self, k=3):\n",
        "    # k is number of nearest neighbors to return, default is 3\n",
        "    self.k = k\n",
        "\n",
        "\n",
        "  def sq_rt(self, x):\n",
        "    '''\n",
        "    Helper method to return the square root.\n",
        "    To be used in Euclidean Distance calculations.\n",
        "    '''    \n",
        "    return x**0.5\n",
        "\n",
        "  def euclidean_distance(self, row_1, row_2):\n",
        "    '''\n",
        "    Helper method to calculate the Euclidean Distance between two points, (row_1 and row_2).\n",
        "    To be used in get_KNN to calculate the closest training points to the test data.\n",
        "    '''\n",
        "    # Save a distance variable to save sum of calculations to\n",
        "    distance = 0.0\n",
        "    # Itereate through each column of the row\n",
        "    # Except for the last column which is where the target varibale is stored\n",
        "    for i in range(len(row_1)-1):\n",
        "      # Calculate the length vectors for each dimension and sum them\n",
        "      distance += (row_1[i]- row_2[i])**2\n",
        "    # Return the square root of the sum of the distances\n",
        "    return self.sq_rt(distance)\n",
        "\n",
        "  def fit(self, X_train, y_train):\n",
        "    '''\n",
        "    Fits the training data to the model.\n",
        "    KNN does this by simply saving the training data in memory.\n",
        "    '''\n",
        "    self.X_train = X_train\n",
        "    self.y_train = y_train\n",
        "\n",
        "  def get_KNN(self, test_row):\n",
        "    '''\n",
        "    Helper method for prediction methods.\n",
        "    Will take in one test row and calculate the k nearest neighbors.\n",
        "    Returns a list of nearest neighbors.\n",
        "    '''\n",
        "\n",
        "    # Save the rows and calculated distances in a tuple\n",
        "    distances = list()\n",
        "\n",
        "    # Iterate through each row in the training data\n",
        "    for i in range(len(self.X_train)):\n",
        "      # Use the euclidean distance function to calculate the distances between the train row and the new observation\n",
        "      euc_dist = euclidean_distance(test_row, self.X_train[i])\n",
        "      # Save the index (to later recall the output value), the row data and the calculated distance\n",
        "      distances.append((i, self.X_train[i], euc_dist))\n",
        "\n",
        "\n",
        "    # Sort by using the calculated distances (the third item in the tuple)\n",
        "    distances.sort(key= lambda tup: tup[2])\n",
        "    \n",
        "    # Populate a list with k nearest neighbors\n",
        "    n_neighbors = list()\n",
        "\n",
        "    # Get the nearest k neighbors by returning the k first instances in the sorted distances list\n",
        "    # Return just the first value in the tuple (the row information)\n",
        "    for i in range(self.k):\n",
        "      n_neighbors.append(distances[i][:2])\n",
        "    \n",
        "    # Return the list of nearest neighbors\n",
        "    # Don't need to save it to self because we are just using it to populate a list\n",
        "    # Used for the prediction method.\n",
        "    # The prediction method will save the important information\n",
        "    return n_neighbors\n",
        "\n",
        "  def helper_predict_classification(self, test_row):\n",
        "    '''\n",
        "    Method returns a classification prediction for a single given test datapoint.\n",
        "    This method will be utilized in the predict_classification method which will be \n",
        "    capable of making predictions for a large X_test dataset.\n",
        "    '''\n",
        "\n",
        "    # Find the nearest neighbors\n",
        "    n_neighbors = self.get_KNN(test_row)\n",
        "\n",
        "    # Use the index values of the nearest neighbors to recall their target outputs\n",
        "\n",
        "    # Store the index values of the n_neighbors\n",
        "    train_output = [n_neighbors[i][0] for i in range(self.k)]    \n",
        "\n",
        "    # Use the index values from the n_neighbors to return their associated outputs from y_train\n",
        "    output_values = [self.y_train[value] for value in train_output]\n",
        "\n",
        "    # Make a prediction by counting each occurance of output values\n",
        "    # Return the output value that occurs the most frequently\n",
        "    prediction = max(set(output_values), key= output_values.count)\n",
        "    # Return the prediction\n",
        "    return prediction\n",
        "\n",
        "  def predict_classification(self, X_test):\n",
        "    '''\n",
        "    Method utilizes the helper_predict_classification to return predictions for \n",
        "    multiple test rows stored in X_test.\n",
        "    '''\n",
        "    self.X_test = X_test\n",
        "\n",
        "    # Create a list to hold all of the predictions\n",
        "    predictions = []\n",
        "\n",
        "    # For each row in X_test, call the predict_classification helper method\n",
        "    for test_row in self.X_test:\n",
        "      predicted_output = self.helper_predict_classification(test_row)\n",
        "\n",
        "      # Save the prediction for each row in X_test\n",
        "      predictions.append(predicted_output)\n",
        "\n",
        "    # Return the list of predictions for each datapoint in X_test\n",
        "    return predictions\n",
        "\n",
        "  def helper_predict_regression(self, test_row):\n",
        "    '''\n",
        "    Method returns a regression prediction for a single given test datapoint.\n",
        "    This method will be utilized in the predict_classification method which will be \n",
        "    capable of making predictions for a large X_test dataset.\n",
        "    '''\n",
        "\n",
        "    # Find the nearest neighbors\n",
        "    n_neighbors = self.get_KNN(test_row)\n",
        "\n",
        "    # Use the index values of the nearest neighbors to recall their target outputs\n",
        "\n",
        "    # Store the index values of the n_neighbors\n",
        "    train_output = [n_neighbors[i][0] for i in range(self.k)]    \n",
        "\n",
        "    # Use the index values from the n_neighbors to return their associated outputs from y_train\n",
        "    output_values = [self.y_train[value] for value in train_output]\n",
        "\n",
        "    # Make prediction by calculating the mean of the output values from the nearest neighbors\n",
        "    prediction = sum(output_values) / len(output_values)\n",
        "\n",
        "    # Return the prediction\n",
        "    return prediction\n",
        "\n",
        "  def predict_regression(self, X_test):\n",
        "    '''\n",
        "    Method utilizes the helper_predict_classification to return predictions for \n",
        "    multiple test rows stored in X_test.\n",
        "    '''\n",
        "    self.X_test = X_test\n",
        "\n",
        "    # Create a list to hold all of the predictions\n",
        "    predictions = []\n",
        "\n",
        "    # For each row in X_test, call the predict_classification helper method\n",
        "    for test_row in self.X_test:\n",
        "      predicted_output = self.helper_predict_regression(test_row)\n",
        "\n",
        "      # Save the prediction for each row in X_test\n",
        "      predictions.append(predicted_output)\n",
        "\n",
        "    # Return the list of predictions for each datapoint in X_test\n",
        "    return predictions\n"
      ],
      "execution_count": null,
      "outputs": []
    },
    {
      "cell_type": "markdown",
      "metadata": {
        "id": "qv3QvxV9Ow--",
        "colab_type": "text"
      },
      "source": [
        ""
      ]
    },
    {
      "cell_type": "markdown",
      "metadata": {
        "id": "e8u-GV_FOw9R",
        "colab_type": "text"
      },
      "source": [
        "## Comparing Scikit-Learn's KNN with our own KNN algorithm\n",
        "Let's see how our algorithm compares to Scikit-Learn's KNN implementation"
      ]
    },
    {
      "cell_type": "markdown",
      "metadata": {
        "id": "IP8bBL25j2Iy",
        "colab_type": "text"
      },
      "source": [
        "### Titanic Dataset\n",
        "We will work with a very common and easily accessable dataset to make it easier for readers to follow along.\n",
        "\n",
        "The Titanic dataset is one of the most popular datasets for begining to learn classification models. The data is already cleaned and has a clear classification target of survived or did not survive. After only a few basic pre-processing steps, we will have a perfect dataset for our KNN model.\n",
        "\n",
        "We will only work with classification. After following along with this article, try to implement a regression problem with the KNN class we created.\n",
        "\n",
        "*Download your own copy of the Titanic dataset and follow along.*  https://web.stanford.edu/class/archive/cs/cs109/cs109.1166/stuff/titanic.csv"
      ]
    },
    {
      "cell_type": "markdown",
      "metadata": {
        "id": "-vAdU9YdThAR",
        "colab_type": "text"
      },
      "source": [
        ""
      ]
    },
    {
      "cell_type": "markdown",
      "metadata": {
        "id": "fXZJ5J6UTg96",
        "colab_type": "text"
      },
      "source": [
        ""
      ]
    },
    {
      "cell_type": "markdown",
      "metadata": {
        "id": "je7uqh3STg6l",
        "colab_type": "text"
      },
      "source": [
        ""
      ]
    },
    {
      "cell_type": "markdown",
      "metadata": {
        "id": "PNuyfPvPTg3D",
        "colab_type": "text"
      },
      "source": [
        ""
      ]
    },
    {
      "cell_type": "markdown",
      "metadata": {
        "id": "CHkE4Hx2Tg0l",
        "colab_type": "text"
      },
      "source": [
        ""
      ]
    },
    {
      "cell_type": "markdown",
      "metadata": {
        "id": "DbazOqDlmDxe",
        "colab_type": "text"
      },
      "source": [
        "### Resources"
      ]
    },
    {
      "cell_type": "markdown",
      "metadata": {
        "id": "XAoUTbNhmIhv",
        "colab_type": "text"
      },
      "source": [
        "*Jason Brownlee, 'Develop k-Nearest Neighbors in Python From Scratch', Machine Learning Mastery. https://machinelearningmastery.com/tutorial-to-implement-k-nearest-neighbors-in-python-from-scratch/*"
      ]
    }
  ]
}