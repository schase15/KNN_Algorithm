{
  "nbformat": 4,
  "nbformat_minor": 0,
  "metadata": {
    "colab": {
      "name": "KNN_Algorithm.ipynb",
      "provenance": [],
      "collapsed_sections": [],
      "authorship_tag": "ABX9TyM1zdtq3GitGN2s6M3ouJjV",
      "include_colab_link": true
    },
    "kernelspec": {
      "name": "python3",
      "display_name": "Python 3"
    }
  },
  "cells": [
    {
      "cell_type": "markdown",
      "metadata": {
        "id": "view-in-github",
        "colab_type": "text"
      },
      "source": [
        "<a href=\"https://colab.research.google.com/github/schase15/KNN_Algorithm/blob/master/KNN_Algorithm.ipynb\" target=\"_parent\"><img src=\"https://colab.research.google.com/assets/colab-badge.svg\" alt=\"Open In Colab\"/></a>"
      ]
    },
    {
      "cell_type": "markdown",
      "metadata": {
        "id": "q6CiSLUhhlLj",
        "colab_type": "text"
      },
      "source": [
        "# Implementing K Nearest Neighbors By Hand"
      ]
    },
    {
      "cell_type": "markdown",
      "metadata": {
        "id": "jZyTDkUchlOo",
        "colab_type": "text"
      },
      "source": [
        "### This notebook includes the code for implementing the K Nearest Neighbors algorithm by hand\n",
        "My algorithm for K Nearest Neighbors is implemented as a Python class using only base python.\n",
        "\n",
        "I then selected a data set and compared the results of my own KNN algorithm to the results of the standard KNN from Scikit - Learn."
      ]
    },
    {
      "cell_type": "markdown",
      "metadata": {
        "id": "grqIZnvtjyX3",
        "colab_type": "text"
      },
      "source": [
        "## Theory Behind KNN"
      ]
    },
    {
      "cell_type": "markdown",
      "metadata": {
        "id": "-jP41SdNj2F-",
        "colab_type": "text"
      },
      "source": [
        "K Nearest Neighbors is a simple machine learning model that makes predictions based off of the most similar observations in its traing data. While it can be very powerful, its predictive capability is limited to observations that are similar to what the training data it has in memory.\n",
        "\n",
        "Unlike most other models, KNN does not 'learn' from its training dataset. Instead it holds the entire training set in memory and then compares the new observation to its stored data. KNN performs no work until a prediction is required.\n",
        "\n",
        "When a prediction is required it does exactly what it name says. The model examines the new observation and finds the most similar records (nearest neighbors) that it holds in its training set. The number of neighbors (k) the model selects from its training data is defined by the user. \n",
        "\n",
        "A prediction can be made by either returning the most common outcome (classification) or by taking the average (regression).\n",
        "\n",
        "**Some Important Notes on Using KNN**\n",
        "\n",
        "- KNN is a simple model to implement, but as a result it is limited in the types of data it can take as input. When working with KNN the phrase \"garbage in, garbage out\" is never more accurate. KNN does not handle categorical variables so everything must be pre-processed to include numerical values only. Additionally, as you will see in the next section, the nearest neighbors are found by calculating the distances between the new observation and the records held in memory. Those with the smallest distances are considered most similar. Intuatively, you should understand the importance of scaling your data (so that they are all being measured on the same metric) before running a KNN model. "
      ]
    },
    {
      "cell_type": "markdown",
      "metadata": {
        "id": "kRn_G7faj2Nl",
        "colab_type": "text"
      },
      "source": [
        "## Algorithm Implementation\n",
        "Now that we understand the theory behind KNN, we can implement our own algorithm from scratch in three setps.\n",
        "\n",
        "Step 1. Calculate Euclidean Distance\n",
        "\n",
        "Step 2. Get Nearest Neighbors\n",
        "\n",
        "Step 3. Make Predicitons"
      ]
    },
    {
      "cell_type": "markdown",
      "metadata": {
        "id": "WFH3IvvGj2MM",
        "colab_type": "text"
      },
      "source": [
        "### Step 1: Calculate Euclidean Distance\n"
      ]
    },
    {
      "cell_type": "markdown",
      "metadata": {
        "id": "w9lBTiIU9ReO",
        "colab_type": "text"
      },
      "source": [
        "The formula for Euclidean Distance is:\n",
        "\n",
        "$ \\sum_{i=1}^n (x_{i}-y_{i})^2 $\n",
        "\n"
      ]
    },
    {
      "cell_type": "markdown",
      "metadata": {
        "id": "ZYxuyLnBw6vh",
        "colab_type": "text"
      },
      "source": [
        "The Euclidean Distance may sound complicated, and the formula may look intimitating. But the concept is very simple. The Euclidean Distance is the ordinary straight line distance between two data points. The formula can be simply derived from the Pythagorean formula: "
      ]
    },
    {
      "cell_type": "markdown",
      "metadata": {
        "id": "jLubqoBkw6zF",
        "colab_type": "text"
      },
      "source": [
        "Pythagorean Theorem:\n",
        "\n",
        "$c^2 = a^2 + b^2 $\n",
        "\n",
        "Where c is the Euclidean distance between datapoints a and b.\n",
        "\n",
        "For simplicity, let's first say that data point a and b are 2-Dimensial and described by their x and y coordinates.\n",
        "\n",
        "a= ($a_{1}, a_{2}$) and b= ($b_{1}, b_{2}$).\n",
        "\n",
        "To help with understanding, visually we can view this on a graph. On the graph below data points a and b have been ploted (represented by the large arrowheads). The Euclidean distance we are trying to calculate is the vector drawn in yellow.\n",
        "\n",
        "By drawing in the vectors representing the datapoints (in blue and red) we can clearly see that the yellow Euclidean distance is simply the hypotenuse of the triangle. "
      ]
    },
    {
      "cell_type": "code",
      "metadata": {
        "id": "jKQHZH14m0q2",
        "colab_type": "code",
        "colab": {
          "base_uri": "https://localhost:8080/",
          "height": 281
        },
        "outputId": "0a293094-24d6-4416-be27-056fad3f509b"
      },
      "source": [
        "# Import matplotlib\n",
        "import matplotlib.pyplot as plt\n",
        "\n",
        "# Coordinate Pairs for where the datapoints are (represented by the arrowheads \n",
        "# at the end of the vectors)\n",
        "\n",
        "# Datapoint a\n",
        "red = (2, 0)\n",
        "\n",
        "# Datapoint b\n",
        "blue = (0, 2)\n",
        "\n",
        "# Axis Bounds\n",
        "plt.xlim(-1,3)          \n",
        "plt.ylim(-1,3)\n",
        "\n",
        "# Plot Vectors\n",
        "plt.arrow(0, 2, 2, -2, head_width=.02, head_length=0.01, color = 'y')\n",
        "plt.arrow(0, 0, 2, 0, head_width=.2, head_length=0.1, color = 'r')\n",
        "plt.arrow(0, 0, 0, 2,  head_width=.2, head_length=0.1, color = 'b')\n",
        "plt.title('Calculating Euclidean Distance')\n",
        "plt.show()"
      ],
      "execution_count": 30,
      "outputs": [
        {
          "output_type": "display_data",
          "data": {
            "image/png": "[encoded data removed]",
            "text/plain": [
              "<Figure size 432x288 with 1 Axes>"
            ]
          },
          "metadata": {
            "tags": [],
            "needs_background": "light"
          }
        }
      ]
    },
    {
      "cell_type": "markdown",
      "metadata": {
        "id": "Sc4S8nAJrTXT",
        "colab_type": "text"
      },
      "source": [
        "\n",
        "We know that the length of the vectors for point a and b can be calculated by |$a_{1} - b_{1}$| and |$a_{2} - b_{2}$|\n",
        "\n",
        "So it follows that,\n",
        "\n",
        "$c^2 = (a_{1}-b_{1})^2 + (a_{2}-b_{2})^2 $\n",
        "\n",
        "$c = \\sqrt{(a_{1}-b_{1})^2 + (a_{2}-b_{2})^2} $\n",
        "\n",
        "This is the basic formula for Euclidean Distance for 2-D datapoints.\n",
        "\n",
        "However, this can be expanded to 3-D and beyond leaving us with the finalized formula of Euclidean Distance we saw above.\n",
        "\n",
        "$c = \\sqrt{(a_{1}-b_{1})^2 + (a_{2}-b_{2})^2 + (a_{3}-b_{3})^2 + ... + (a_{n}-b_{n})^2} $\n",
        "\n",
        "More succintly written as,\n",
        "\n",
        "$ \\sum_{i=1}^n (a_{i}-b_{i})^2 $\n"
      ]
    },
    {
      "cell_type": "markdown",
      "metadata": {
        "id": "Le3fSJIiEXLC",
        "colab_type": "text"
      },
      "source": [
        "**Given our understanding of the mathmatics behind calculating the Euclidean distance, how can we write that calculation in python?**"
      ]
    },
    {
      "cell_type": "markdown",
      "metadata": {
        "id": "gAOdy--WhmJB",
        "colab_type": "text"
      },
      "source": [
        "When working with datasets, each row is a datapoint. Each column represents another dimension of the datapoint (but that leads us off track into the subject of dimensionality and furthermore the curse of dimensionality). If you don't know what I am talking about, it is a crucial concept to understand when building your own machine learning models. For the purposes of this article, I will leave further research of that topic to you.\n",
        "\n",
        "To calculate the Euclidean distance between two points we can use the following function."
      ]
    },
    {
      "cell_type": "code",
      "metadata": {
        "id": "rKZc5AmShl5P",
        "colab_type": "code",
        "colab": {}
      },
      "source": [
        "# Helper method to calculate the square root\n",
        "def sq_rt(x):\n",
        "  return x** 0.5\n",
        "\n",
        "# Calculate the Euclidean distance between two vectors (datapoints)\n",
        "def euclidean_distance(row_1, row_2):     # For datapoint row 1 and datapoint row 2\n",
        "  # Save a distance variable to save sum of calculations to\n",
        "  distance = 0.0\n",
        "  # Itereate through each column of the row\n",
        "  # Except for the last column which is where the target varibale is stored\n",
        "  for i in range(len(row_1)-1):\n",
        "    # Calculate the length vectors for each dimension and sum them\n",
        "    distance += (row_1[i]- row_2[i])**2\n",
        "  # Return the square root of the sum of the distances\n",
        "  return sq_rt(distance)"
      ],
      "execution_count": 32,
      "outputs": []
    },
    {
      "cell_type": "markdown",
      "metadata": {
        "id": "7mRkmjdBEXOI",
        "colab_type": "text"
      },
      "source": [
        "The function above assumes that the output target is the last column of the datapoint and is therefore not included in the distance calculations. In our final KNN class we will have a fit method that saves the X values and the target separately.  "
      ]
    },
    {
      "cell_type": "markdown",
      "metadata": {
        "id": "OC3OurimEXIc",
        "colab_type": "text"
      },
      "source": [
        "### Step 2: Get Nearest Neighbors"
      ]
    },
    {
      "cell_type": "markdown",
      "metadata": {
        "id": "7lCsdKx6sPpm",
        "colab_type": "text"
      },
      "source": [
        "Now that we know how to calculate the distance betweeen two datapoints, we can find the k nearest neighbors (closest instances in the training data) to our new datapoint. \n",
        "\n",
        "First we can use the above function to calculate the distances between our new observation and each datapoint in our training set. Once calculated, we can sort these distances and return the instances with the smallest calculated distances.\n",
        "\n",
        "The below function get_KNN() will implement this idea in python."
      ]
    },
    {
      "cell_type": "code",
      "metadata": {
        "id": "TRtDeSs8hlx_",
        "colab_type": "code",
        "colab": {}
      },
      "source": [
        "# Return the k nearest neighbors to the new observation\n",
        "\n",
        "# Input is the training data, test observation, and the number of neighbors (k) to return\n",
        "def get_KNN(train, test_row, k):\n",
        "  # Save the rows and calculated distances in a tuple\n",
        "  distances = list()\n",
        "\n",
        "  # Iterate through each row in the training data\n",
        "  # Use the euclidean distance function to calculate the distances between the train row and the new observation\n",
        "  for train_row in train:\n",
        "    euc_dist = euclidean_distance(test_row, train_row)\n",
        "    # Save the row and calculated distance\n",
        "    distances.append((train_row, euc_dist))\n",
        "\n",
        "  # Sort by using the calculated distances (the second item in the tuple)\n",
        "  distances.sort(key= lambda tup: tup[1])\n",
        "  \n",
        "  # Populate a list with k nearest neighbors\n",
        "  n_neighbors = list()\n",
        "\n",
        "  # Get the nearest k neighbors by returning the k first instances in the sorted distances list\n",
        "  # Return just the first value in the tuple (the row information)\n",
        "  for i in range(k):\n",
        "    n_neighbors.append(distances[i][0])\n",
        "  \n",
        "  # Return the list of nearest neighbors\n",
        "  return n_neighbors"
      ],
      "execution_count": 39,
      "outputs": []
    },
    {
      "cell_type": "markdown",
      "metadata": {
        "id": "yokjPz5osPw1",
        "colab_type": "text"
      },
      "source": [
        "### Step 3: Make Predictions"
      ]
    },
    {
      "cell_type": "markdown",
      "metadata": {
        "id": "sVJJquonsPuV",
        "colab_type": "text"
      },
      "source": [
        "We have used our knowledge of Euclidean Distance to find the k nearest neighbors to our test datapoint. Now we can make predictions, the whole point of the model.\n",
        "\n",
        "We have the most similar instances from the dataset to our test observation. Intuatively, by looking at the target outputs of our nearest neighbors, we should be able to predict an output for our test case."
      ]
    },
    {
      "cell_type": "markdown",
      "metadata": {
        "id": "8zhOzuqaNMRl",
        "colab_type": "text"
      },
      "source": [
        "**Classification**:\n",
        "For a classification problem, that is as simple as counting up the instances of each output across the k nearest neighbors. Our prediction for our test datapoint will be whichever output occured most frequnetly in the nearest neighbors. \n",
        "\n",
        "The function below utilizes the output from the get_KNN() function to implement the idea of classification prediction in python:"
      ]
    },
    {
      "cell_type": "code",
      "metadata": {
        "id": "EHB7RpmksQgh",
        "colab_type": "code",
        "colab": {}
      },
      "source": [
        "# Make a classification prediction with k nearest neighbors\n",
        "def predict_classification(train, test_row, k):\n",
        "  # Find the nearest neighbors\n",
        "  n_neighbors = get_KNN(train, test_row, k)\n",
        "\n",
        "  # Populate a list with the target output (the last column) from each KNN row\n",
        "  output_values = [row[-1] for row in n_neighbors]\n",
        "\n",
        "  # Make prediction by counting each occurance of output values\n",
        "  # Return the output value that occurs the most frequently\n",
        "  prediction = max(set(output_values), key= output_values.count)\n",
        "  # Return the prediction\n",
        "  return prediction"
      ],
      "execution_count": 41,
      "outputs": []
    },
    {
      "cell_type": "markdown",
      "metadata": {
        "id": "TMMlJIUmNQtj",
        "colab_type": "text"
      },
      "source": [
        "**Regression**\n",
        "For a regression problem, we use the same logic of looking at the output values of the K nearest neighbors. Instead of returning the most common occurance, we will return the mean value of the output values as the regression prediction.\n",
        "The function below utilizes the output from the get_KNN() function to make a regression prediction in python."
      ]
    },
    {
      "cell_type": "code",
      "metadata": {
        "id": "d5YdHrz2N2Fd",
        "colab_type": "code",
        "colab": {}
      },
      "source": [
        "# Make a regression prediction with k nearest neighbors\n",
        "def predict_regression(train, test_row, k):\n",
        "  # Find the nearest neighbors\n",
        "  n_neighbors = get_KNN(train, test_row, k)\n",
        "\n",
        "  # Populate a list with the target output (the last column) from each KNN row\n",
        "  output_values = [row[-1] for row in n_neighbors]\n",
        "\n",
        "  # Make prediction by calculating the mean of the output values from the nearest neighbors\n",
        "  prediction = sum(output_values) / len(output_values)\n",
        "  # Return the prediction\n",
        "  return prediction"
      ],
      "execution_count": 45,
      "outputs": []
    },
    {
      "cell_type": "markdown",
      "metadata": {
        "id": "SVGsWduqQ8PL",
        "colab_type": "text"
      },
      "source": [
        "The two prediction functions created above are for making a prediction for one new data point. That was primarily for ease of understanding. Generally, we are not looking for a single prediction, but a prediction for each point in a large dataset. To adapt the above functions to handle multiple predictions, just iterate through your new dataset, calling the predict function on each point\n",
        "\n",
        "The code below will accomplish that for classification."
      ]
    },
    {
      "cell_type": "code",
      "metadata": {
        "id": "ZKX8Umj1RjOb",
        "colab_type": "code",
        "colab": {}
      },
      "source": [
        "# Create predictions for multiple new datapoints, classification\n",
        "\n",
        "def multiple_classifications(train, test, k):\n",
        "  # Create a list to hold all of the predictions\n",
        "\tpredictions = list()\n",
        " \n",
        "  # For each row in the test data, call the predict function\n",
        "  for row in test:\n",
        "\t\tpredicted_output = predict_classification(train, row, k)\n",
        "\t\tpredictions.append(predicted_output)\n",
        "  \n",
        "  # Return the populated list of predictions\n",
        "  return predictions"
      ],
      "execution_count": null,
      "outputs": []
    },
    {
      "cell_type": "markdown",
      "metadata": {
        "id": "bq8p7f4uTCcy",
        "colab_type": "text"
      },
      "source": [
        "The above can be similarly modified to handle regression predictions."
      ]
    },
    {
      "cell_type": "markdown",
      "metadata": {
        "id": "pyPfZueqlcnr",
        "colab_type": "text"
      },
      "source": [
        "### Step 3B: Determine Accuracy of Predictions\n",
        "We may have predictions but what use are they if we do not know how accurate they are? "
      ]
    },
    {
      "cell_type": "markdown",
      "metadata": {
        "id": "VOL4ZB__l1Lr",
        "colab_type": "text"
      },
      "source": [
        "**Classification error metric**:\n",
        "For classification we will use accuracy to determine the strength of our predictive model. \n",
        "\n",
        "This can simply be calculated by counting the number of correct predictions the model made divided by the amount of predictions it made.\n",
        "\n",
        "**accuracy = correct_predictions / total_predictions**\n",
        "\n",
        "In python this can be implemented as follows:"
      ]
    },
    {
      "cell_type": "code",
      "metadata": {
        "id": "oz0Fj_L1yr-4",
        "colab_type": "code",
        "colab": {}
      },
      "source": [
        "# Return accuracy by comparing predicted output to the known actual output\n",
        "\n",
        "def model_accuracy(predicted, actual):\n",
        "\n",
        "    # Compare each prediction to the known test output\n",
        "    predict_bool = [predicted[i] == actual[i] for i in range(len(predictions))]\n",
        "\n",
        "    # Return the percentage of correct predictions\n",
        "    accuracy = sum(predict_bool) / len(self.y_test)\n",
        "    return accuracy"
      ],
      "execution_count": null,
      "outputs": []
    },
    {
      "cell_type": "markdown",
      "metadata": {
        "id": "pInRdprUl1Ik",
        "colab_type": "text"
      },
      "source": [
        "**Regression error metric**: For regression there are many appropriate error metrics to evaluate your model's ability. Mean squared error, Root mean squared error, mean absolute error, and $R^2$ are a few ooptions. Explaining them all is outside the scope of this article but I suggest you spend some time learning the pros and cons for each one. For our example, we will use mean squared error. \n",
        "\n",
        "Calculating the MSE is the average of the squared differences between the actual output and the predicted output. \n",
        "\n",
        "Mathmatically, this formula can be written as\n",
        "\n",
        "**MSE = $ \\frac{1}{n}$ $\\sum(actual - predicted)^2 $**\n",
        "\n",
        "In python, we can implement an MSE calculation as follows:"
      ]
    },
    {
      "cell_type": "code",
      "metadata": {
        "id": "Dw2YtOm81y8G",
        "colab_type": "code",
        "colab": {}
      },
      "source": [
        "# Return the mean square error by comparing the predicted outputs with the known outputs\n",
        "\n",
        "def model_mse(predicted, actual):\n",
        "    # Start a mse variable at 0\n",
        "    mse = 0\n",
        "\n",
        "    # For each predicted value - square the difference bewteen the actual and predicted output\n",
        "    # Sum them all and divide by the number of predicted outputs\n",
        "    for i in range(len(predicted)):\n",
        "      mse += (actual[i] - predicted[i])**2\n",
        "      mse = mse / len(predicted)\n",
        "\n",
        "    # Return the calculated mean square root\n",
        "    return mse"
      ],
      "execution_count": null,
      "outputs": []
    },
    {
      "cell_type": "markdown",
      "metadata": {
        "id": "jaiwyBkhOtVF",
        "colab_type": "text"
      },
      "source": [
        "## Put the pieces together in a KNN class"
      ]
    },
    {
      "cell_type": "markdown",
      "metadata": {
        "id": "EdmQEjNnOw6Y",
        "colab_type": "text"
      },
      "source": [
        "Now that we have all of the pieces, we can wrap them all in a K Nearest Neighbor class. All of the functions defined above will be methods that you can call on the class."
      ]
    },
    {
      "cell_type": "code",
      "metadata": {
        "id": "MjSZouHBPk6o",
        "colab_type": "code",
        "colab": {}
      },
      "source": [
        "# K Nearest Neighbors Class\n",
        "'''\n",
        "Class is initialized by setting k (number of nearest neighbors you want to look at)\n",
        "Then call the .fit() method to save the X_train matrix and y_train vector\n",
        "The method .predict_classification() will return classification predictions given X_test\n",
        "The method .predict_regression() will return regression predictions given X_test\n",
        "'''\n",
        "\n",
        "class KNN():\n",
        "  def __init__(self, k=3):\n",
        "    # k is number of nearest neighbors to return, default is 3\n",
        "    self.k = k\n",
        "\n",
        "\n",
        "  def sq_rt(self, x):\n",
        "    '''\n",
        "    Helper method to return the square root.\n",
        "    To be used in Euclidean Distance calculations.\n",
        "    '''    \n",
        "    return x**0.5\n",
        "\n",
        "  def euclidean_distance(self, row_1, row_2):\n",
        "    '''\n",
        "    Helper method to calculate the Euclidean Distance between two points, (row_1 and row_2).\n",
        "    To be used in get_KNN to calculate the closest training points to the test data.\n",
        "    '''\n",
        "    # Save a distance variable to save sum of calculations to\n",
        "    distance = 0.0\n",
        "    # Itereate through each column of the row\n",
        "    for i in range(len(row_1)):\n",
        "      # Calculate the length vectors for each dimension and sum them\n",
        "      distance += (row_1[i]- row_2[i])**2\n",
        "    # Return the square root of the sum of the distances\n",
        "    return self.sq_rt(distance)\n",
        "\n",
        "  def fit(self, X_train, y_train):\n",
        "    '''\n",
        "    Our algorithm needs the input data to be an python list\n",
        "    Fit method will convert X_train and y_train to lists and save in memory\n",
        "    '''\n",
        "    self.X_train = X_train.values.tolist()\n",
        "    self.y_train = y_train.values.tolist()\n",
        "\n",
        "  def get_KNN(self, test_row):\n",
        "    '''\n",
        "    Helper method for prediction methods.\n",
        "    Will take in one test row and calculate the k nearest neighbors.\n",
        "    Returns a list of nearest neighbors.\n",
        "    '''\n",
        "\n",
        "    # Save the rows and calculated distances in a tuple\n",
        "    distances = list()\n",
        "\n",
        "    # Iterate through each row in the training data\n",
        "    for i in range(len(self.X_train)):\n",
        "      # Use the euclidean distance function to calculate the distances between the train row and the new observation\n",
        "      euc_dist = self.euclidean_distance(test_row, self.X_train[i])\n",
        "      # Save the index (to later recall the output value), the row data and the calculated distance\n",
        "      distances.append((i, self.X_train[i], euc_dist))\n",
        "\n",
        "\n",
        "    # Sort by using the calculated distances (the third item in the tuple)\n",
        "    distances.sort(key= lambda tup: tup[2])\n",
        "    \n",
        "    # Populate a list with k nearest neighbors\n",
        "    n_neighbors = list()\n",
        "\n",
        "    # Get the nearest k neighbors by returning the k first instances in the sorted distances list\n",
        "    # Return just the first value in the tuple (the row information)\n",
        "    for i in range(self.k):\n",
        "      n_neighbors.append(distances[i][:2])\n",
        "    \n",
        "    # Return the list of nearest neighbors\n",
        "    # Don't need to save it to self because we are just using it to populate a list\n",
        "    # Used for the prediction method.\n",
        "    # The prediction method will save the important information\n",
        "    return n_neighbors\n",
        "\n",
        "  def helper_predict_classification(self, test_row):\n",
        "    '''\n",
        "    Method returns a classification prediction for a single given test datapoint.\n",
        "    This method will be utilized in the predict_classification method which will be \n",
        "    capable of making predictions for a large X_test dataset.\n",
        "    '''\n",
        "\n",
        "    # Find the nearest neighbors\n",
        "    n_neighbors = self.get_KNN(test_row)\n",
        "\n",
        "    # Use the index values of the nearest neighbors to recall their target outputs\n",
        "\n",
        "    # Store the index values of the n_neighbors\n",
        "    train_output = [n_neighbors[i][0] for i in range(self.k)]    \n",
        "\n",
        "    # Use the index values from the n_neighbors to return their associated outputs from y_train\n",
        "    output_values = [self.y_train[value] for value in train_output]\n",
        "\n",
        "    # Make a prediction by counting each occurance of output values\n",
        "    # Return the output value that occurs the most frequently\n",
        "    prediction = max(set(output_values), key= output_values.count)\n",
        "    # Return the prediction\n",
        "    return prediction\n",
        "\n",
        "  def predict_classification(self, X_test):\n",
        "    '''\n",
        "    Method utilizes the helper_predict_classification to return predictions for \n",
        "    multiple test rows stored in X_test.\n",
        "    '''\n",
        "    # X_test must be a python list, method will convert the input to python lists\n",
        "    # and save it in memory\n",
        "    self.X_test = X_test.values.tolist()\n",
        "\n",
        "    # Create a list to hold all of the predictions\n",
        "    self.predictions = []\n",
        "\n",
        "    # For each row in X_test, call the predict_classification helper method\n",
        "    for test_row in self.X_test:\n",
        "      predicted_output = self.helper_predict_classification(test_row)\n",
        "\n",
        "      # Save the prediction for each row in X_test\n",
        "      self.predictions.append(predicted_output)\n",
        "\n",
        "    # Return the list of predictions for each datapoint in X_test\n",
        "    return self.predictions\n",
        "\n",
        "  def helper_predict_regression(self, test_row):\n",
        "    '''\n",
        "    Method returns a regression prediction for a single given test datapoint.\n",
        "    This method will be utilized in the predict_classification method which will be \n",
        "    capable of making predictions for a large X_test dataset.\n",
        "    '''\n",
        "\n",
        "    # Find the nearest neighbors\n",
        "    n_neighbors = self.get_KNN(test_row)\n",
        "\n",
        "    # Use the index values of the nearest neighbors to recall their target outputs\n",
        "\n",
        "    # Store the index values of the n_neighbors\n",
        "    train_output = [n_neighbors[i][0] for i in range(self.k)]    \n",
        "\n",
        "    # Use the index values from the n_neighbors to return their associated outputs from y_train\n",
        "    output_values = [self.y_train[value] for value in train_output]\n",
        "\n",
        "    # Make prediction by calculating the mean of the output values from the nearest neighbors\n",
        "    prediction = sum(output_values) / len(output_values)\n",
        "\n",
        "    # Return the prediction\n",
        "    return prediction\n",
        "\n",
        "  def predict_regression(self, X_test):\n",
        "    '''\n",
        "    Method utilizes the helper_predict_classification to return predictions for \n",
        "    multiple test rows stored in X_test.\n",
        "    '''\n",
        "    # X_test must be a python list, method will convert the input to python lists\n",
        "    # and save it in memory\n",
        "    self.X_test = X_test.values.tolist()\n",
        "\n",
        "    # Create a list to hold all of the predictions\n",
        "    self.predictions = []\n",
        "\n",
        "    # For each row in X_test, call the predict_classification helper method\n",
        "    for test_row in self.X_test:\n",
        "      predicted_output = self.helper_predict_regression(test_row)\n",
        "\n",
        "      # Save the prediction for each row in X_test\n",
        "      self.predictions.append(predicted_output)\n",
        "\n",
        "    # Return the list of predictions for each datapoint in X_test\n",
        "    return self.predictions\n",
        "\n",
        "  def model_accuracy(self, y_test):\n",
        "    '''\n",
        "    Calculates the accuracy of the model's classification predictions.\n",
        "    Compares the predicted output values with the known test output values.\n",
        "    '''\n",
        "    # y_test must be a python list, method will convert the input to python lists\n",
        "    # and save it in memory\n",
        "    self.y_test = y_test.values.tolist()\n",
        "\n",
        "    # Compare each prediction to the known test output\n",
        "    predict_bool = [self.predictions[i] == self.y_test[i] for i in range(len(self.predictions))]\n",
        "\n",
        "    # Return the percentage of correct predictions\n",
        "    return sum(predict_bool) / len(self.y_test)\n",
        "\n",
        "  def model_MSE(self, y_test):\n",
        "    '''\n",
        "    Calculates the mean squared error of the model's regression predictions.\n",
        "    Calculated by summing all of the squares of the differences between actual \n",
        "    and predicted, and then dividing by the number of observations.\n",
        "    ''' \n",
        "    # y_test must be a python list, method will convert the input to python lists\n",
        "    # and save it in memory\n",
        "    self.y_test = y_test.values.tolist()\n",
        "\n",
        "    # Start a mse variable at 0\n",
        "    mse = 0\n",
        "\n",
        "    # For each predicted value - square the difference bewteen the actual and predicted output\n",
        "    # Sum them all and return divide by the number of predicted outputs\n",
        "    for i in range(len(self.predictions)):\n",
        "      mse += (self.y_test[i] - self.predictions[i])**2\n",
        "      self.mse = mse / len(self.predictions)\n",
        "\n",
        "    # Return the calculated mean square root\n",
        "    return self.mse\n"
      ],
      "execution_count": 61,
      "outputs": []
    },
    {
      "cell_type": "markdown",
      "metadata": {
        "id": "e8u-GV_FOw9R",
        "colab_type": "text"
      },
      "source": [
        "## Comparing Scikit-Learn's KNN with our own KNN algorithm\n",
        "Let's see how our algorithm compares to Scikit-Learn's KNN implementation"
      ]
    },
    {
      "cell_type": "markdown",
      "metadata": {
        "id": "IP8bBL25j2Iy",
        "colab_type": "text"
      },
      "source": [
        "### Titanic Dataset\n",
        "We will work with a very common and easily accessable dataset to make it easier for readers to follow along.\n",
        "\n",
        "The Titanic dataset is one of the most popular datasets for begining to learn classification models. The data is already cleaned and has a clear classification target of survived or did not survive. After only a few basic pre-processing steps, we will have a perfect dataset for our KNN model.\n",
        "\n",
        "We will only work with classification. After following along with this article, try to implement a regression problem with the same KNN class we created.\n",
        "\n",
        "*Download your own copy of the Titanic dataset and follow along.*  https://web.stanford.edu/class/archive/cs/cs109/cs109.1166/stuff/titanic.csv"
      ]
    },
    {
      "cell_type": "markdown",
      "metadata": {
        "id": "-vAdU9YdThAR",
        "colab_type": "text"
      },
      "source": [
        "In order for use to implement either Scikit-Learn or our own alogorithm we need to pre-process the Titanic data. As mentioned before, KNN only handles numeric data and that data must be scaled to make them compareable."
      ]
    },
    {
      "cell_type": "code",
      "metadata": {
        "id": "epIjCHPk5m9Q",
        "colab_type": "code",
        "colab": {
          "resources": {
            "http://localhost:8080/nbextensions/google.colab/files.js": {
              "data": "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",
              "ok": true,
              "headers": [
                [
                  "content-type",
                  "application/javascript"
                ]
              ],
              "status": 200,
              "status_text": ""
            }
          },
          "base_uri": "https://localhost:8080/",
          "height": 73
        },
        "outputId": "55e81969-c845-4f3e-e868-243af4baaa0a"
      },
      "source": [
        "# Load data into google colab\n",
        "\n",
        "from google.colab import files\n",
        "uploaded = files.upload()"
      ],
      "execution_count": 1,
      "outputs": [
        {
          "output_type": "display_data",
          "data": {
            "text/html": [
              "\n",
              "     <input type=\"file\" id=\"files-703cdd40-91de-4931-8db3-4b84d4110185\" name=\"files[]\" multiple disabled\n",
              "        style=\"border:none\" />\n",
              "     <output id=\"result-703cdd40-91de-4931-8db3-4b84d4110185\">\n",
              "      Upload widget is only available when the cell has been executed in the\n",
              "      current browser session. Please rerun this cell to enable.\n",
              "      </output>\n",
              "      <script src=\"/nbextensions/google.colab/files.js\"></script> "
            ],
            "text/plain": [
              "<IPython.core.display.HTML object>"
            ]
          },
          "metadata": {
            "tags": []
          }
        },
        {
          "output_type": "stream",
          "text": [
            "Saving titanic.csv to titanic.csv\n"
          ],
          "name": "stdout"
        }
      ]
    },
    {
      "cell_type": "code",
      "metadata": {
        "id": "cYkRLm2A5OLF",
        "colab_type": "code",
        "colab": {}
      },
      "source": [
        "# Use pandas to load the data\n",
        "import pandas as pd\n",
        "\n",
        "# Load the data\n",
        "df = pd.read_csv('titanic.csv')"
      ],
      "execution_count": 2,
      "outputs": []
    },
    {
      "cell_type": "code",
      "metadata": {
        "id": "vT2Qht5b5O9a",
        "colab_type": "code",
        "colab": {
          "base_uri": "https://localhost:8080/",
          "height": 197
        },
        "outputId": "52d545fc-ecd1-43cc-a791-1f659c6cb184"
      },
      "source": [
        "# View the first 5 records to see what features we have in our dataset\n",
        "df.head()"
      ],
      "execution_count": 56,
      "outputs": [
        {
          "output_type": "execute_result",
          "data": {
            "text/html": [
              "<div>\n",
              "<style scoped>\n",
              "    .dataframe tbody tr th:only-of-type {\n",
              "        vertical-align: middle;\n",
              "    }\n",
              "\n",
              "    .dataframe tbody tr th {\n",
              "        vertical-align: top;\n",
              "    }\n",
              "\n",
              "    .dataframe thead th {\n",
              "        text-align: right;\n",
              "    }\n",
              "</style>\n",
              "<table border=\"1\" class=\"dataframe\">\n",
              "  <thead>\n",
              "    <tr style=\"text-align: right;\">\n",
              "      <th></th>\n",
              "      <th>Survived</th>\n",
              "      <th>Pclass</th>\n",
              "      <th>Age</th>\n",
              "      <th>Siblings/Spouses Aboard</th>\n",
              "      <th>Parents/Children Aboard</th>\n",
              "      <th>female</th>\n",
              "      <th>male</th>\n",
              "    </tr>\n",
              "  </thead>\n",
              "  <tbody>\n",
              "    <tr>\n",
              "      <th>0</th>\n",
              "      <td>0</td>\n",
              "      <td>3</td>\n",
              "      <td>22.0</td>\n",
              "      <td>1</td>\n",
              "      <td>0</td>\n",
              "      <td>0</td>\n",
              "      <td>1</td>\n",
              "    </tr>\n",
              "    <tr>\n",
              "      <th>1</th>\n",
              "      <td>1</td>\n",
              "      <td>1</td>\n",
              "      <td>38.0</td>\n",
              "      <td>1</td>\n",
              "      <td>0</td>\n",
              "      <td>1</td>\n",
              "      <td>0</td>\n",
              "    </tr>\n",
              "    <tr>\n",
              "      <th>2</th>\n",
              "      <td>1</td>\n",
              "      <td>3</td>\n",
              "      <td>26.0</td>\n",
              "      <td>0</td>\n",
              "      <td>0</td>\n",
              "      <td>1</td>\n",
              "      <td>0</td>\n",
              "    </tr>\n",
              "    <tr>\n",
              "      <th>3</th>\n",
              "      <td>1</td>\n",
              "      <td>1</td>\n",
              "      <td>35.0</td>\n",
              "      <td>1</td>\n",
              "      <td>0</td>\n",
              "      <td>1</td>\n",
              "      <td>0</td>\n",
              "    </tr>\n",
              "    <tr>\n",
              "      <th>4</th>\n",
              "      <td>0</td>\n",
              "      <td>3</td>\n",
              "      <td>35.0</td>\n",
              "      <td>0</td>\n",
              "      <td>0</td>\n",
              "      <td>0</td>\n",
              "      <td>1</td>\n",
              "    </tr>\n",
              "  </tbody>\n",
              "</table>\n",
              "</div>"
            ],
            "text/plain": [
              "   Survived  Pclass   Age  ...  Parents/Children Aboard  female  male\n",
              "0         0       3  22.0  ...                        0       0     1\n",
              "1         1       1  38.0  ...                        0       1     0\n",
              "2         1       3  26.0  ...                        0       1     0\n",
              "3         1       1  35.0  ...                        0       1     0\n",
              "4         0       3  35.0  ...                        0       0     1\n",
              "\n",
              "[5 rows x 7 columns]"
            ]
          },
          "metadata": {
            "tags": []
          },
          "execution_count": 56
        }
      ]
    },
    {
      "cell_type": "markdown",
      "metadata": {
        "id": "vynSl7gL6ITQ",
        "colab_type": "text"
      },
      "source": [
        "The first column 'Survived' is our target. We are trying to predict whether the passenger survived (1) or did not (0). The remaining columns are features we can choose to use to predict our target. In order to make the pre-processing easier and consistant we will make a pre-processing function.\n",
        "\n",
        "The function will drop the name category, because a passenger's survival rate doesn't depend on their name, and the fare category because it is directly tied to Pclass and is therefore redundant. \n",
        "\n",
        "The last thing we have to do in pre-processing is convert the sex column into numbers. We can accomplish this by using pandas get_dummies() method to One-Hot-Encode the 'Sex' column so that there is a column for male and female populated by 1's and 0's. "
      ]
    },
    {
      "cell_type": "code",
      "metadata": {
        "id": "UfTIOqvH5O6y",
        "colab_type": "code",
        "colab": {}
      },
      "source": [
        "# Build a pre-processing function that will clean the data for use in our KNN models\n",
        "\n",
        "def pre_process(df):\n",
        "  # Make a copy of the data\n",
        "  df = df.copy()\n",
        "\n",
        "  # Drop Name because target does not depend on name\n",
        "  # Drop Fare because it is directly tied to Pclass and therefore redundant information\n",
        "  df = df.drop(['Name', 'Fare'], axis=1)\n",
        "\n",
        "  # One-Hot-Encode the sex column using pd.get_dummies()\n",
        "  dummies = pd.get_dummies(df['Sex'])\n",
        "  # Add the new 'male' and 'female' columns to the existing df and drop the original 'Sex' column\n",
        "  df = pd.concat([df, dummies], axis= 'columns').drop('Sex', axis= 'columns')\n",
        "\n",
        "  # Return the pre-processed df\n",
        "  return df"
      ],
      "execution_count": 6,
      "outputs": []
    },
    {
      "cell_type": "code",
      "metadata": {
        "id": "h-nVCgoo_Q_A",
        "colab_type": "code",
        "colab": {
          "base_uri": "https://localhost:8080/",
          "height": 197
        },
        "outputId": "9c3b312a-0409-42de-bb36-a591dbbf1398"
      },
      "source": [
        "# Run pre-process function and view returned df\n",
        "\n",
        "df = pre_process(df)\n",
        "df.head()"
      ],
      "execution_count": 8,
      "outputs": [
        {
          "output_type": "execute_result",
          "data": {
            "text/html": [
              "<div>\n",
              "<style scoped>\n",
              "    .dataframe tbody tr th:only-of-type {\n",
              "        vertical-align: middle;\n",
              "    }\n",
              "\n",
              "    .dataframe tbody tr th {\n",
              "        vertical-align: top;\n",
              "    }\n",
              "\n",
              "    .dataframe thead th {\n",
              "        text-align: right;\n",
              "    }\n",
              "</style>\n",
              "<table border=\"1\" class=\"dataframe\">\n",
              "  <thead>\n",
              "    <tr style=\"text-align: right;\">\n",
              "      <th></th>\n",
              "      <th>Survived</th>\n",
              "      <th>Pclass</th>\n",
              "      <th>Age</th>\n",
              "      <th>Siblings/Spouses Aboard</th>\n",
              "      <th>Parents/Children Aboard</th>\n",
              "      <th>female</th>\n",
              "      <th>male</th>\n",
              "    </tr>\n",
              "  </thead>\n",
              "  <tbody>\n",
              "    <tr>\n",
              "      <th>0</th>\n",
              "      <td>0</td>\n",
              "      <td>3</td>\n",
              "      <td>22.0</td>\n",
              "      <td>1</td>\n",
              "      <td>0</td>\n",
              "      <td>0</td>\n",
              "      <td>1</td>\n",
              "    </tr>\n",
              "    <tr>\n",
              "      <th>1</th>\n",
              "      <td>1</td>\n",
              "      <td>1</td>\n",
              "      <td>38.0</td>\n",
              "      <td>1</td>\n",
              "      <td>0</td>\n",
              "      <td>1</td>\n",
              "      <td>0</td>\n",
              "    </tr>\n",
              "    <tr>\n",
              "      <th>2</th>\n",
              "      <td>1</td>\n",
              "      <td>3</td>\n",
              "      <td>26.0</td>\n",
              "      <td>0</td>\n",
              "      <td>0</td>\n",
              "      <td>1</td>\n",
              "      <td>0</td>\n",
              "    </tr>\n",
              "    <tr>\n",
              "      <th>3</th>\n",
              "      <td>1</td>\n",
              "      <td>1</td>\n",
              "      <td>35.0</td>\n",
              "      <td>1</td>\n",
              "      <td>0</td>\n",
              "      <td>1</td>\n",
              "      <td>0</td>\n",
              "    </tr>\n",
              "    <tr>\n",
              "      <th>4</th>\n",
              "      <td>0</td>\n",
              "      <td>3</td>\n",
              "      <td>35.0</td>\n",
              "      <td>0</td>\n",
              "      <td>0</td>\n",
              "      <td>0</td>\n",
              "      <td>1</td>\n",
              "    </tr>\n",
              "  </tbody>\n",
              "</table>\n",
              "</div>"
            ],
            "text/plain": [
              "   Survived  Pclass   Age  ...  Parents/Children Aboard  female  male\n",
              "0         0       3  22.0  ...                        0       0     1\n",
              "1         1       1  38.0  ...                        0       1     0\n",
              "2         1       3  26.0  ...                        0       1     0\n",
              "3         1       1  35.0  ...                        0       1     0\n",
              "4         0       3  35.0  ...                        0       0     1\n",
              "\n",
              "[5 rows x 7 columns]"
            ]
          },
          "metadata": {
            "tags": []
          },
          "execution_count": 8
        }
      ]
    },
    {
      "cell_type": "markdown",
      "metadata": {
        "id": "fXZJ5J6UTg96",
        "colab_type": "text"
      },
      "source": [
        "As we can see, the data is now in the proper format for our KNN models.\n",
        "\n",
        "Now that out data has been pre-processed, we can seperate the target from the fetures."
      ]
    },
    {
      "cell_type": "code",
      "metadata": {
        "id": "vRz5ZU-xAmhp",
        "colab_type": "code",
        "colab": {}
      },
      "source": [
        "# Define target and features\n",
        "features = df.columns.drop('Survived')\n",
        "target = 'Survived'\n",
        "\n",
        "# Create feature matrix and target vector\n",
        "X = df[features]\n",
        "y = df[target]"
      ],
      "execution_count": 9,
      "outputs": []
    },
    {
      "cell_type": "markdown",
      "metadata": {
        "id": "je7uqh3STg6l",
        "colab_type": "text"
      },
      "source": [
        "In order to test our alogrithms we need to set aside some of the data we have. This is standard practice for supervised machine learning models. We will use 80% of our data to train our model, and the remaining 20% will be used to test the performance of our model. \n",
        "\n",
        "Scikit-Learn has a function to easily do this for us."
      ]
    },
    {
      "cell_type": "code",
      "metadata": {
        "id": "REFpFQiRBomE",
        "colab_type": "code",
        "colab": {}
      },
      "source": [
        "# Import train-test split\n",
        "from sklearn.model_selection import train_test_split\n",
        "\n",
        "# Split the df into 80% train 20% test data\n",
        "X_train, X_test, y_train, y_test = train_test_split(X, y, test_size= 0.20, random_state=42)"
      ],
      "execution_count": 10,
      "outputs": []
    },
    {
      "cell_type": "markdown",
      "metadata": {
        "id": "PNuyfPvPTg3D",
        "colab_type": "text"
      },
      "source": [
        "Our data has been cleaned and split into training and testing features and targets. If you've stuck with us this far, it's about to pay off. Let's run some KNN models!"
      ]
    },
    {
      "cell_type": "markdown",
      "metadata": {
        "id": "uhUfSBwuHhqT",
        "colab_type": "text"
      },
      "source": [
        "## Determine Accuracy"
      ]
    },
    {
      "cell_type": "markdown",
      "metadata": {
        "id": "aLXddWpHHj_V",
        "colab_type": "text"
      },
      "source": [
        "When evaluating model performance we want to start with a baseline accuracy. This is the accuracy score if we were to simply guess the majority outcome everytime. It gives us a starting point to compare our models to. The baseline metric is the best we can do without models. Hopefully, our models can improve over the baseline."
      ]
    },
    {
      "cell_type": "code",
      "metadata": {
        "id": "eQaX0bkoGsBX",
        "colab_type": "code",
        "colab": {
          "base_uri": "https://localhost:8080/",
          "height": 70
        },
        "outputId": "101c8cf7-30a6-496b-f359-449adad0ec1d"
      },
      "source": [
        "# Calculate the baseline accuracy\n",
        "\n",
        "# Find the majority count\n",
        "y_train.value_counts()"
      ],
      "execution_count": 23,
      "outputs": [
        {
          "output_type": "execute_result",
          "data": {
            "text/plain": [
              "0    434\n",
              "1    275\n",
              "Name: Survived, dtype: int64"
            ]
          },
          "metadata": {
            "tags": []
          },
          "execution_count": 23
        }
      ]
    },
    {
      "cell_type": "code",
      "metadata": {
        "id": "8flMi2_sG3z7",
        "colab_type": "code",
        "colab": {
          "base_uri": "https://localhost:8080/",
          "height": 34
        },
        "outputId": "40983116-5075-4aa1-ba64-9e690be4f94e"
      },
      "source": [
        "# If we were to guess the majority (0) for each test, we would get 434 correct\n",
        "# baseline is correct guesses divided by total guesses \n",
        "baseline = 434 / (434 + 275)\n",
        "baseline"
      ],
      "execution_count": 24,
      "outputs": [
        {
          "output_type": "execute_result",
          "data": {
            "text/plain": [
              "0.61212976022567"
            ]
          },
          "metadata": {
            "tags": []
          },
          "execution_count": 24
        }
      ]
    },
    {
      "cell_type": "markdown",
      "metadata": {
        "id": "CHkE4Hx2Tg0l",
        "colab_type": "text"
      },
      "source": [
        "### Titanic Predictions Using Scikit-Learn's KNeighborsClassifier"
      ]
    },
    {
      "cell_type": "markdown",
      "metadata": {
        "id": "RJ8rWaEjDZBg",
        "colab_type": "text"
      },
      "source": [
        "Let's start by making predictions and calculating the accuracy of Scikit-Learn's KNeighborsClassifier model.\n",
        "\n",
        "This can be done by the following steps:\n",
        "\n",
        "- Instantiate the model\n",
        "- Fit the model with our training data\n",
        "- Make predictions based off of our test features\n",
        "- Provide the known test targets to determine the accuracy"
      ]
    },
    {
      "cell_type": "code",
      "metadata": {
        "id": "cbxHRJd7Dapt",
        "colab_type": "code",
        "colab": {
          "base_uri": "https://localhost:8080/",
          "height": 123
        },
        "outputId": "8db166bb-bf50-46e3-bf6e-070b23cc9c22"
      },
      "source": [
        "# Import the model\n",
        "from sklearn.neighbors import KNeighborsClassifier\n",
        "\n",
        "# Instantiate the KNClassifier object\n",
        "scikit_KNN = KNeighborsClassifier(n_neighbors=3)\n",
        "\n",
        "# Fit the model with training data\n",
        "scikit_KNN.fit(X_train, y_train)\n",
        "\n",
        "# Make predictions\n",
        "print(scikit_KNN.predict(X_test))\n",
        "\n",
        "# Calculate accuracy\n",
        "scikit_KNN.score(X_test, y_test)"
      ],
      "execution_count": 57,
      "outputs": [
        {
          "output_type": "stream",
          "text": [
            "[0 1 0 0 0 1 0 0 0 0 0 1 0 0 0 0 0 1 0 0 0 1 1 0 0 0 0 0 0 1 1 0 1 1 1 0 1\n",
            " 1 1 1 1 0 1 0 0 0 0 0 0 0 0 0 1 0 1 0 0 1 1 0 0 1 1 1 1 0 0 0 0 0 0 1 0 0\n",
            " 0 1 1 1 1 0 0 0 0 0 1 1 1 0 0 0 1 1 0 1 0 1 0 0 1 1 1 0 1 1 0 0 0 0 0 0 1\n",
            " 0 0 0 0 0 1 1 0 0 0 1 0 0 1 0 0 1 1 1 0 0 0 0 0 0 0 0 1 0 1 0 0 0 0 1 0 0\n",
            " 0 0 0 1 0 0 1 1 0 1 0 0 0 0 0 1 0 1 0 1 0 0 1 1 1 0 1 1 1 0]\n"
          ],
          "name": "stdout"
        },
        {
          "output_type": "execute_result",
          "data": {
            "text/plain": [
              "0.7584269662921348"
            ]
          },
          "metadata": {
            "tags": []
          },
          "execution_count": 57
        }
      ]
    },
    {
      "cell_type": "markdown",
      "metadata": {
        "id": "bnuVNjFBFb88",
        "colab_type": "text"
      },
      "source": [
        "Considering the baseline accuracy was 61.2%, Scikit-Learn's model is an improvement at 75.84%"
      ]
    },
    {
      "cell_type": "markdown",
      "metadata": {
        "id": "UW1aZTawJFtN",
        "colab_type": "text"
      },
      "source": [
        "### Titanic Predictions Using Our Own Algorithm"
      ]
    },
    {
      "cell_type": "markdown",
      "metadata": {
        "id": "Zgn23WLfJKYr",
        "colab_type": "text"
      },
      "source": [
        "Let's see how our algorithm does compared to the results from Scikit-Learn.\n",
        "\n",
        "Our model can be implemented in the exact same way:\n",
        "- Instantiate the model\n",
        "- Fit the model with our training data\n",
        "- Make predictions based off of our test features\n",
        "- Provide the known test targets to determine the accuracy"
      ]
    },
    {
      "cell_type": "code",
      "metadata": {
        "id": "sHWCx2GiDan5",
        "colab_type": "code",
        "colab": {
          "base_uri": "https://localhost:8080/",
          "height": 72
        },
        "outputId": "f7c5ccbf-8e69-446c-fe29-0508d240f999"
      },
      "source": [
        "# Make sure you run the KNN Class above to load the alogorithm\n",
        "\n",
        "# Instantiate our algorithm\n",
        "our_KNN = KNN(3)\n",
        "\n",
        "# Fit the model with training data\n",
        "our_KNN.fit(X_train, y_train)\n",
        "\n",
        "# Make predictions based off of our test features\n",
        "print(our_KNN.predict_classification(X_test))\n",
        "\n",
        "# Calculate the accuracy of our model\n",
        "our_KNN.model_accuracy(y_test)"
      ],
      "execution_count": 62,
      "outputs": [
        {
          "output_type": "stream",
          "text": [
            "[0, 1, 0, 0, 0, 1, 0, 0, 0, 0, 0, 1, 0, 0, 0, 0, 0, 1, 0, 0, 0, 1, 0, 0, 0, 0, 0, 0, 1, 0, 1, 0, 1, 1, 1, 0, 1, 1, 1, 1, 1, 0, 1, 0, 0, 0, 1, 0, 0, 0, 0, 0, 0, 0, 1, 0, 0, 1, 1, 0, 0, 1, 1, 1, 1, 0, 0, 0, 0, 0, 0, 1, 0, 0, 0, 1, 1, 0, 1, 0, 0, 0, 0, 0, 1, 1, 1, 0, 0, 0, 1, 1, 0, 1, 0, 1, 0, 0, 1, 1, 1, 0, 0, 1, 0, 0, 0, 0, 0, 0, 1, 1, 0, 0, 0, 0, 0, 1, 0, 0, 0, 0, 0, 0, 1, 0, 0, 1, 1, 1, 0, 0, 0, 0, 0, 0, 0, 0, 1, 1, 1, 0, 0, 0, 0, 1, 0, 0, 0, 0, 0, 1, 0, 0, 0, 1, 0, 1, 0, 0, 0, 1, 0, 1, 0, 0, 0, 1, 0, 1, 1, 1, 0, 0, 1, 1, 1, 0]\n"
          ],
          "name": "stdout"
        },
        {
          "output_type": "execute_result",
          "data": {
            "text/plain": [
              "0.7471910112359551"
            ]
          },
          "metadata": {
            "tags": []
          },
          "execution_count": 62
        }
      ]
    },
    {
      "cell_type": "markdown",
      "metadata": {
        "id": "Hc78T0MCDY_R",
        "colab_type": "text"
      },
      "source": [
        "Our algorithm resulted in an accuracy of 74.7%, just shy of the results of Scikit-Learn's method but still far better than our baseline. "
      ]
    },
    {
      "cell_type": "markdown",
      "metadata": {
        "id": "xzShDL9iDY8u",
        "colab_type": "text"
      },
      "source": [
        "### What's Next?\n",
        "We have walked through how to implement a K Nearest Neighbors machine learning algorithm that will work with either classification or regression problems. Then we walked through a classification problem using the Titanic dataset. \n",
        "\n",
        "For further understanding and practice:\n",
        "- Find your own dataset for a regression problem and use the predict_regression() method that we created in our KNN class.\n",
        "- Implement different distance metrics like Manhattan distance or Hamming distance\n",
        "- Implement different error metrics for both classification and regression\n",
        "\n"
      ]
    },
    {
      "cell_type": "markdown",
      "metadata": {
        "id": "DbazOqDlmDxe",
        "colab_type": "text"
      },
      "source": [
        "### Resources"
      ]
    },
    {
      "cell_type": "markdown",
      "metadata": {
        "id": "XAoUTbNhmIhv",
        "colab_type": "text"
      },
      "source": [
        "*Jason Brownlee, 'Develop k-Nearest Neighbors in Python From Scratch', Machine Learning Mastery. https://machinelearningmastery.com/tutorial-to-implement-k-nearest-neighbors-in-python-from-scratch/*"
      ]
    }
  ]
}